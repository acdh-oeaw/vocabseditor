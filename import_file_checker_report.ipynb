{
 "cells": [
  {
   "cell_type": "code",
   "execution_count": null,
   "metadata": {},
   "outputs": [],
   "source": [
    "import json"
   ]
  },
  {
   "cell_type": "code",
   "execution_count": null,
   "metadata": {},
   "outputs": [],
   "source": [
    "from arche.helpers import path2cols, create_acdhid"
   ]
  },
  {
   "cell_type": "code",
   "execution_count": null,
   "metadata": {},
   "outputs": [],
   "source": [
    "data = json.load(open(r\"C:\\Users\\pandorfer\\Desktop\\fileList.json\"))"
   ]
  },
  {
   "cell_type": "code",
   "execution_count": null,
   "metadata": {},
   "outputs": [],
   "source": [
    "for x in data['data']:\n",
    "    filename = x['filename']\n",
    "    directory = x['directory']\n",
    "    file_type = x['type']\n",
    "    size = x['size']\n",
    "    valid = x['valid_file']\n",
    "    new_cols = path2cols(directory, '/')\n",
    "    res, _ = Resource.objects.get_or_create(\n",
    "        has_title=filename, has_filetype=file_type, file_size=size\n",
    "    )\n",
    "    try:\n",
    "        res.part_of = new_cols[0]\n",
    "    except:\n",
    "        pass\n",
    "#     print(res)\n",
    "#     print(new_cols)\n",
    "    res.save()    "
   ]
  },
  {
   "cell_type": "markdown",
   "metadata": {},
   "source": [
    "## assing acdh:id to Resource and Collection objects"
   ]
  },
  {
   "cell_type": "code",
   "execution_count": null,
   "metadata": {},
   "outputs": [],
   "source": [
    "for x in Resource.objects.all():\n",
    "    create_acdhid(x, trim=29)"
   ]
  },
  {
   "cell_type": "code",
   "execution_count": null,
   "metadata": {},
   "outputs": [],
   "source": [
    "for x in Collection.objects.all():\n",
    "    create_acdhid(x, trim=29)"
   ]
  },
  {
   "cell_type": "code",
   "execution_count": null,
   "metadata": {},
   "outputs": [],
   "source": []
  }
 ],
 "metadata": {
  "kernelspec": {
   "display_name": "Django Shell-Plus",
   "language": "python",
   "name": "django_extensions"
  },
  "language_info": {
   "codemirror_mode": {
    "name": "ipython",
    "version": 3
   },
   "file_extension": ".py",
   "mimetype": "text/x-python",
   "name": "python",
   "nbconvert_exporter": "python",
   "pygments_lexer": "ipython3",
   "version": "3.6.2"
  }
 },
 "nbformat": 4,
 "nbformat_minor": 2
}
